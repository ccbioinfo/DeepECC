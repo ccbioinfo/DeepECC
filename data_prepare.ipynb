{
 "cells": [
  {
   "cell_type": "code",
   "id": "initial_id",
   "metadata": {
    "collapsed": true
   },
   "source": [
    "import pandas as pd\n",
    "from Bio import SeqIO\n",
    "import utils"
   ],
   "outputs": [],
   "execution_count": null
  },
  {
   "cell_type": "code",
   "id": "4deae72eb1a515f5",
   "metadata": {},
   "source": [
    "genome_file = './data/Homo_sapiens.GRCh38.dna.toplevel.fa'\n",
    "cancer_cell_line = './data/Cancer_cell_line.tsv'"
   ],
   "outputs": [],
   "execution_count": null
  },
  {
   "cell_type": "code",
   "id": "f778b8b6db9f948a",
   "metadata": {},
   "source": [
    "# Preprocess and generate the positive and negative dataset for Stage one\n",
    "around_len = 1500\n",
    "true_path = f'./data/cancer_cell_line_{around_len}.csv'\n",
    "false_path = f'./data/cancer_cell_line_{around_len}_f.csv'\n",
    "CCL_data = utils.data_preprocess(cancer_cell_line, genome_file, around_len=around_len)\n",
    "false_data = utils.generate_false_data(CCL_data, around_len=around_len, multi_process=True, seed=42)\n",
    "false_data = utils.data_preprocess(false_data, genome_file, around_len=around_len,read_data=False)\n",
    "\n",
    "CCL_data.to_csv(true_path, header=True, index=None)\n",
    "false_data.to_csv(false_path, header=True, index=None)"
   ],
   "outputs": [],
   "execution_count": null
  },
  {
   "cell_type": "code",
   "id": "1d315e8a",
   "metadata": {},
   "source": [
    "# Generate the different negative datasets for hard negative mining\n",
    "for repeat_num in range(10):\n",
    "    around_len = 1500\n",
    "    repeat_num = 7\n",
    "    seed = 43+ repeat_num\n",
    "\n",
    "    repeat_path = './data/repeat'\n",
    "    if not os.path.exists(repeat_path):\n",
    "        os.mkdir(repeat_path)\n",
    "    false_path = f'./data/repeat/cancer_cell_line_{around_len}_f_{repeat_num}.csv'\n",
    "    CCL_data = utils.data_preprocess(cancer_cell_line, genome_file, around_len=around_len)\n",
    "    false_data = utils.generate_false_data(CCL_data, around_len=around_len, multi_process=True, seed=seed)\n",
    "    false_data = utils.data_preprocess(false_data, genome_file, around_len=around_len,read_data=False)\n",
    "    false_data.to_csv(false_path, header=True, index=None)"
   ],
   "outputs": [],
   "execution_count": null
  },
  {
   "cell_type": "code",
   "id": "b29fcaea",
   "metadata": {},
   "source": [
    "# Preprocess and generate the positive and negative for Stage two\n",
    "around_len = 750\n",
    "true_path = f'./data/cancer_cell_line_{around_len}.csv'\n",
    "CCL_data = utils.data_preprocess(cancer_cell_line, genome_file, around_len=around_len)\n",
    "CCL_data.to_csv(true_path, header=True, index=None)\n",
    "\n",
    "true_data_ = utils.shuffle_positive_data(CCL_data)\n",
    "true_data_.to_csv(f'./data/cancer_cell_line_{around_len}_f_shuffled.csv')"
   ],
   "outputs": [],
   "execution_count": null
  }
 ],
 "metadata": {
  "kernelspec": {
   "display_name": "eccDNA_test",
   "language": "python",
   "name": "python3"
  },
  "language_info": {
   "codemirror_mode": {
    "name": "ipython",
    "version": 3
   },
   "file_extension": ".py",
   "mimetype": "text/x-python",
   "name": "python",
   "nbconvert_exporter": "python",
   "pygments_lexer": "ipython3",
   "version": "3.10.14"
  }
 },
 "nbformat": 4,
 "nbformat_minor": 5
}
