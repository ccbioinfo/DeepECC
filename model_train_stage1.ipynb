{
 "cells": [
  {
   "cell_type": "code",
   "id": "initial_id",
   "metadata": {
    "collapsed": true
   },
   "source": [
    "pos_data='./data/cancer_cell_line_1500.csv'\n",
    "neg_data='./data/cancer_cell_line_1500_f.csv'\n",
    "neg_file_list='./data/repeat/cancer_cell_line_1500_f'\n",
    "neg_threshold=0\n",
    "start_end='start'\n",
    "seq_len=1500\n",
    "parameter_choice='RU_2'\n",
    "epochs=30\n",
    "lr=0.0001\n",
    "wd=0.001\n",
    "dropout=0.2\n",
    "batch_size=1024\n",
    "smoothing=0\n",
    "threshold=0.5\n",
    "val_split=0.2\n",
    "save_path='./record'\n",
    "dirname='stage1_start'\n",
    "world_size=3\n",
    "device='cuda'"
   ],
   "outputs": [],
   "execution_count": null
  },
  {
   "cell_type": "code",
   "id": "7d2d2aa41083db76",
   "metadata": {},
   "source": [
    "!pwd\n",
    "!python -m func.train_negative_reconstruction_parallel \\\n",
    "    --pos_data {pos_data} \\\n",
    "    --neg_data {neg_data} \\\n",
    "    --neg_file_list {neg_file_list} \\\n",
    "    --neg_threshold {neg_threshold} \\\n",
    "    --start_end {start_end} \\\n",
    "    --seq_len {seq_len} \\\n",
    "    --parameter_choice {parameter_choice} \\\n",
    "    --epochs {epochs} \\\n",
    "    --lr {lr} \\\n",
    "    --wd {wd} \\\n",
    "    --dropout {dropout} \\\n",
    "    --batch_size {batch_size} \\\n",
    "    --smoothing {smoothing} \\\n",
    "    --threshold {threshold} \\\n",
    "    --val_split {val_split} \\\n",
    "    --save_path {save_path} \\\n",
    "    --dir_name {dirname} \\\n",
    "    --world_size {world_size} \\\n",
    "    --device {device} \\\n",
    "    --show"
   ],
   "outputs": [],
   "execution_count": null
  },
  {
   "cell_type": "code",
   "id": "9d76649080bd1b8a",
   "metadata": {},
   "source": [
    "pos_data='./data/cancer_cell_line_1500.csv'\n",
    "neg_data='./data/cancer_cell_line_1500_f.csv'\n",
    "neg_file_list='./data/repeat/cancer_cell_line_1500_f'\n",
    "neg_threshold=0\n",
    "start_end='end'\n",
    "seq_len=1500\n",
    "parameter_choice='RU_2'\n",
    "epochs=30\n",
    "lr=0.0001\n",
    "wd=0.001\n",
    "dropout=0.2\n",
    "batch_size=1024\n",
    "smoothing=0\n",
    "threshold=0.5\n",
    "val_split=0.2\n",
    "save_path='./record'\n",
    "dirname='stage1_end'\n",
    "world_size=3\n",
    "device='cuda'"
   ],
   "outputs": [],
   "execution_count": null
  },
  {
   "cell_type": "code",
   "id": "16f4caca3052ccd6",
   "metadata": {},
   "source": [
    "!pwd\n",
    "!python -m func.train_negative_reconstruction_parallel \\\n",
    "    --pos_data {pos_data} \\\n",
    "    --neg_data {neg_data} \\\n",
    "    --neg_file_list {neg_file_list} \\\n",
    "    --neg_threshold {neg_threshold} \\\n",
    "    --start_end {start_end} \\\n",
    "    --seq_len {seq_len} \\\n",
    "    --parameter_choice {parameter_choice} \\\n",
    "    --epochs {epochs} \\\n",
    "    --lr {lr} \\\n",
    "    --wd {wd} \\\n",
    "    --dropout {dropout} \\\n",
    "    --batch_size {batch_size} \\\n",
    "    --smoothing {smoothing} \\\n",
    "    --threshold {threshold} \\\n",
    "    --val_split {val_split} \\\n",
    "    --save_path {save_path} \\\n",
    "    --dir_name {dirname} \\\n",
    "    --world_size {world_size} \\\n",
    "    --device {device} \\\n",
    "    --show"
   ],
   "outputs": [],
   "execution_count": null
  }
 ],
 "metadata": {
  "kernelspec": {
   "display_name": "eccDNA_test",
   "language": "python",
   "name": "python3"
  },
  "language_info": {
   "codemirror_mode": {
    "name": "ipython",
    "version": 3
   },
   "file_extension": ".py",
   "mimetype": "text/x-python",
   "name": "python",
   "nbconvert_exporter": "python",
   "pygments_lexer": "ipython3",
   "version": "3.10.14"
  }
 },
 "nbformat": 4,
 "nbformat_minor": 5
}
