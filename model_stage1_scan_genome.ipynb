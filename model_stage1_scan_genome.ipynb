{
 "cells": [
  {
   "cell_type": "code",
   "id": "initial_id",
   "metadata": {
    "collapsed": true
   },
   "source": [
    "genome_file='./data/Homo_sapiens.GRCh38.dna.toplevel.fa'\n",
    "parameter_path='./record/check_points/stage1_start/stage1_start.pth'\n",
    "parameter_choice='RU_2'\n",
    "start_end='start'\n",
    "seq_len=1500\n",
    "batch_size=10240\n",
    "dropout=0.2\n",
    "threshold=0.95\n",
    "num_workers=8\n",
    "save_path='./record'\n",
    "dir_name='scan_start'\n",
    "device='cuda:0'\n"
   ],
   "outputs": [],
   "execution_count": null
  },
  {
   "cell_type": "code",
   "id": "5ed3d8b1660627bf",
   "metadata": {},
   "source": [
    "!pwd\n",
    "for chr in ['chr1', 'chr2', 'chr3', 'chr4', 'chr5', 'chr6', 'chr7', 'chr8',\n",
    "            'chr9', 'chr10', 'chr11', 'chr12', 'chr13', 'chr14', 'chr15', 'chr16',\n",
    "            'chr17', 'chr18', 'chr19', 'chr20', 'chr21', 'chr22', 'chrX', 'chrY']:\n",
    "    !python -m func.scan_genome \\\n",
    "        --genome_file {genome_file} \\\n",
    "        --parameter_path {parameter_path} \\\n",
    "        --parameter_choice {parameter_choice} \\\n",
    "        --start_end {start_end} \\\n",
    "        --dropout {dropout} \\\n",
    "        --seq_len {seq_len} \\\n",
    "        --batch_size {batch_size} \\\n",
    "        --threshold {threshold} \\\n",
    "        --chr {chr} \\\n",
    "        --num_workers {num_workers} \\\n",
    "        --save_path {save_path} \\\n",
    "        --dir_name {dir_name} \\\n",
    "        --device {device}"
   ],
   "outputs": [],
   "execution_count": null
  },
  {
   "cell_type": "code",
   "id": "8b51ee6670bb6843",
   "metadata": {},
   "source": [
    "genome_file='./data/Homo_sapiens.GRCh38.dna.toplevel.fa'\n",
    "parameter_path='./record/check_points/stage1_end/stage1_end.pth'\n",
    "parameter_choice='RU_2'\n",
    "start_end='end'\n",
    "seq_len=1500\n",
    "batch_size=10240\n",
    "dropout=0.2\n",
    "threshold=0.95\n",
    "num_workers=8\n",
    "save_path='./record'\n",
    "dir_name='scan_end'\n",
    "device='cuda:0'"
   ],
   "outputs": [],
   "execution_count": null
  },
  {
   "cell_type": "code",
   "id": "78382a51365e510e",
   "metadata": {},
   "source": [
    "!pwd\n",
    "for chr in ['chr1', 'chr2', 'chr3', 'chr4', 'chr5', 'chr6', 'chr7', 'chr8',\n",
    "            'chr9', 'chr10', 'chr11', 'chr12', 'chr13', 'chr14', 'chr15', 'chr16',\n",
    "            'chr17', 'chr18', 'chr19', 'chr20', 'chr21', 'chr22', 'chrX', 'chrY']:\n",
    "    !python -m func.scan_genome \\\n",
    "        --genome_file {genome_file} \\\n",
    "        --parameter_path {parameter_path} \\\n",
    "        --parameter_choice {parameter_choice} \\\n",
    "        --start_end {start_end} \\\n",
    "        --dropout {dropout} \\\n",
    "        --seq_len {seq_len} \\\n",
    "        --batch_size {batch_size} \\\n",
    "        --threshold {threshold} \\\n",
    "        --chr {chr} \\\n",
    "        --num_workers {num_workers} \\\n",
    "        --save_path {save_path} \\\n",
    "        --dir_name {dir_name} \\\n",
    "        --device {device}"
   ],
   "outputs": [],
   "execution_count": null
  },
  {
   "cell_type": "code",
   "id": "0a40abfd",
   "metadata": {},
   "source": [
    "import utils\n",
    "\n",
    "scan_start_results = utils.find_parquet_files('./record/records/scan_start')\n",
    "scan_end_results = utils.find_parquet_files('./record/records/scan_end')\n",
    "\n",
    "scan_start_data = utils.combined_all(scan_start_results)\n",
    "scan_start_data.columns = ['chr_hg38', 'start_hg38', 'probs']\n",
    "\n",
    "scan_end_data = utils.combined_all(scan_end_results)\n",
    "scan_end_data.columns = ['chr_hg38', 'end_hg38', 'probs']\n",
    "\n",
    "scan_start_data.to_parquet('./record/records/scan_start/scan_start.parquet', index=False)\n",
    "scan_end_data.to_parquet('./record/records/scan_end/scan_end.parquet', index=False)"
   ],
   "outputs": [],
   "execution_count": null
  }
 ],
 "metadata": {
  "kernelspec": {
   "display_name": "eccDNA_test",
   "language": "python",
   "name": "python3"
  },
  "language_info": {
   "codemirror_mode": {
    "name": "ipython",
    "version": 3
   },
   "file_extension": ".py",
   "mimetype": "text/x-python",
   "name": "python",
   "nbconvert_exporter": "python",
   "pygments_lexer": "ipython3",
   "version": "3.10.14"
  }
 },
 "nbformat": 4,
 "nbformat_minor": 5
}
