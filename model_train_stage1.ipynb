{
 "cells": [
  {
   "cell_type": "code",
   "execution_count": null,
   "id": "initial_id",
   "metadata": {
    "collapsed": true
   },
   "outputs": [],
   "source": [
    "pos_data='./data/cancer_cell_line_1500.csv'\n",
    "neg_data='./data/cancer_cell_line_1500_f.csv'\n",
    "neg_file_list='./data/repeat/cancer_cell_line_1500_f'\n",
    "neg_threshold=0\n",
    "start_end='start'\n",
    "seq_len=1500\n",
    "parameter_choice='RU_2'\n",
    "epochs=30\n",
    "lr=0.0001\n",
    "wd=0.001\n",
    "dropout=0.2\n",
    "batch_size=1024\n",
    "smoothing=0\n",
    "threshold=0.5\n",
    "val_split=0.2\n",
    "save_path='./record'\n",
    "dirname='stage1_start'\n",
    "world_size=3\n",
    "device='cuda'"
   ]
  },
  {
   "metadata": {},
   "cell_type": "code",
   "outputs": [],
   "execution_count": null,
   "source": [
    "!python train_negative_reconstruction_parallel.py \\\n",
    "    --pos_data {pos_data} \\\n",
    "    --neg_data {neg_data} \\\n",
    "    --neg_file_list {neg_file_list} \\\n",
    "    --neg_threshold {neg_threshold} \\\n",
    "    --start_end {start_end} \\\n",
    "    --seq_len {seq_len} \\\n",
    "    --parameter_choice {parameter_choice} \\\n",
    "    --epochs {epochs} \\\n",
    "    --lr {lr} \\\n",
    "    --wd {wd} \\\n",
    "    --dropout {dropout} \\\n",
    "    --batch_size {batch_size} \\\n",
    "    --smoothing {smoothing} \\\n",
    "    --threshold {threshold} \\\n",
    "    --val_split {val_split} \\\n",
    "    --save_path {save_path} \\\n",
    "    --dir_name {dirname} \\\n",
    "    --world_size {world_size} \\\n",
    "    --device {device} \\\n",
    "    --show"
   ],
   "id": "7d2d2aa41083db76"
  },
  {
   "metadata": {},
   "cell_type": "code",
   "outputs": [],
   "execution_count": null,
   "source": [
    "pos_data='./data/cancer_cell_line_1500.csv'\n",
    "neg_data='./data/cancer_cell_line_1500_f.csv'\n",
    "neg_file_list='./data/repeat/cancer_cell_line_1500_f'\n",
    "neg_threshold=0\n",
    "start_end='end'\n",
    "seq_len=1500\n",
    "parameter_choice='RU_2'\n",
    "epochs=30\n",
    "lr=0.0001\n",
    "wd=0.001\n",
    "dropout=0.2\n",
    "batch_size=1024\n",
    "smoothing=0\n",
    "threshold=0.5\n",
    "val_split=0.2\n",
    "save_path='./record'\n",
    "dirname='stage1_end'\n",
    "world_size=3\n",
    "device='cuda'"
   ],
   "id": "9d76649080bd1b8a"
  },
  {
   "metadata": {},
   "cell_type": "code",
   "outputs": [],
   "execution_count": null,
   "source": [
    "!python train_negative_reconstruction_parallel.py \\\n",
    "    --pos_data {pos_data} \\\n",
    "    --neg_data {neg_data} \\\n",
    "    --neg_file_list {neg_file_list} \\\n",
    "    --neg_threshold {neg_threshold} \\\n",
    "    --start_end {start_end} \\\n",
    "    --seq_len {seq_len} \\\n",
    "    --parameter_choice {parameter_choice} \\\n",
    "    --epochs {epochs} \\\n",
    "    --lr {lr} \\\n",
    "    --wd {wd} \\\n",
    "    --dropout {dropout} \\\n",
    "    --batch_size {batch_size} \\\n",
    "    --smoothing {smoothing} \\\n",
    "    --threshold {threshold} \\\n",
    "    --val_split {val_split} \\\n",
    "    --save_path {save_path} \\\n",
    "    --dir_name {dirname} \\\n",
    "    --world_size {world_size} \\\n",
    "    --device {device} \\\n",
    "    --show"
   ],
   "id": "16f4caca3052ccd6"
  }
 ],
 "metadata": {
  "kernelspec": {
   "display_name": "Python 3",
   "language": "python",
   "name": "python3"
  },
  "language_info": {
   "codemirror_mode": {
    "name": "ipython",
    "version": 2
   },
   "file_extension": ".py",
   "mimetype": "text/x-python",
   "name": "python",
   "nbconvert_exporter": "python",
   "pygments_lexer": "ipython2",
   "version": "2.7.6"
  }
 },
 "nbformat": 4,
 "nbformat_minor": 5
}
