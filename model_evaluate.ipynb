{
 "cells": [
  {
   "metadata": {},
   "cell_type": "code",
   "outputs": [],
   "execution_count": null,
   "source": [
    "pos_data = './data/cancer_cell_line_1500.csv'\n",
    "neg_data = './data/cancer_cell_line_1500_f.csv'\n",
    "start_end=\"start\"\n",
    "seq_len=1500\n",
    "parameter_choice=\"RU_2\"\n",
    "epochs=30\n",
    "lr=0.0001\n",
    "wd=0.001\n",
    "dropout=0.2\n",
    "batch_size=1024\n",
    "smoothing=0\n",
    "threshold=0.5\n",
    "val_split=0.2\n",
    "save_path = './record'\n",
    "dir_name = 'model_evaluate'\n",
    "world_size=3\n",
    "device=\"cuda\""
   ],
   "id": "12415f77a70aac5d"
  },
  {
   "metadata": {},
   "cell_type": "code",
   "outputs": [],
   "execution_count": null,
   "source": [
    "!python ./func/train_parallel_fold_valid.py \\\n",
    "    --pos_data {pos_data} \\\n",
    "    --neg_data {neg_data} \\\n",
    "    --start_end {start_end} \\\n",
    "    --seq_len {seq_len} \\\n",
    "    --parameter_choice {parameter_choice} \\\n",
    "    --epochs {epochs} \\\n",
    "    --lr {lr} \\\n",
    "    --wd {wd} \\\n",
    "    --dropout {dropout} \\\n",
    "    --batch_size {batch_size} \\\n",
    "    --smoothing {smoothing} \\\n",
    "    --threshold {threshold} \\\n",
    "    --val_split {val_split} \\\n",
    "    --save_path {save_path} \\\n",
    "    --dir_name {dir_name} \\\n",
    "    -world_size {world_size} \\\n",
    "    --device {device} \\\n",
    "    --show"
   ],
   "id": "fbe6c82233f9f774"
  }
 ],
 "metadata": {
  "kernelspec": {
   "display_name": "Python 3",
   "language": "python",
   "name": "python3"
  },
  "language_info": {
   "codemirror_mode": {
    "name": "ipython",
    "version": 2
   },
   "file_extension": ".py",
   "mimetype": "text/x-python",
   "name": "python",
   "nbconvert_exporter": "python",
   "pygments_lexer": "ipython2",
   "version": "2.7.6"
  }
 },
 "nbformat": 4,
 "nbformat_minor": 5
}
