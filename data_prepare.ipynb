{
 "cells": [
  {
   "cell_type": "code",
   "execution_count": null,
   "id": "initial_id",
   "metadata": {
    "collapsed": true
   },
   "outputs": [],
   "source": [
    "import pandas as pd\n",
    "from Bio import SeqIO\n",
    "import utils"
   ]
  },
  {
   "metadata": {},
   "cell_type": "code",
   "outputs": [],
   "execution_count": null,
   "source": [
    "genome_file = 'Homo_sapiens.GRCh38.dna.toplevel.fa'\n",
    "cancer_cell_line = 'Cancer_cell_line.tsv'\n",
    "around_len = 1500"
   ],
   "id": "4deae72eb1a515f5"
  },
  {
   "metadata": {},
   "cell_type": "code",
   "outputs": [],
   "execution_count": null,
   "source": [
    "true_path = f'./data/cancer_cell_line_{around_len}.csv'\n",
    "false_path = f'./data/cancer_cell_line_{around_len}_f.csv'\n",
    "CCL_data = utils.data_preprocess(cancer_cell_line, genome_file, around_len=around_len)\n",
    "false_data = utils.generate_false_data(CCL_data, around_len=around_len, multi_process=True, seed=42)\n",
    "false_data = utils.data_preprocess(false_data, genome_file, around_len=around_len,read_data=False)\n",
    "\n",
    "CCL_data.to_csv(true_path, header=True, index=None)\n",
    "false_data.to_csv(false_path, header=True, index=None)"
   ],
   "id": "f778b8b6db9f948a"
  }
 ],
 "metadata": {
  "kernelspec": {
   "display_name": "Python 3",
   "language": "python",
   "name": "python3"
  },
  "language_info": {
   "codemirror_mode": {
    "name": "ipython",
    "version": 2
   },
   "file_extension": ".py",
   "mimetype": "text/x-python",
   "name": "python",
   "nbconvert_exporter": "python",
   "pygments_lexer": "ipython2",
   "version": "2.7.6"
  }
 },
 "nbformat": 4,
 "nbformat_minor": 5
}
