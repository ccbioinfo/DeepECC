{
 "cells": [
  {
   "cell_type": "code",
   "execution_count": null,
   "id": "initial_id",
   "metadata": {
    "collapsed": true
   },
   "outputs": [],
   "source": [
    "genome_file='Homo_sapiens.GRCh38.dna.toplevel.fa'\n",
    "parameter_path='./record/check_points/model_train_stage1/stage1_start.pth'\n",
    "parameter_choice='RU_2'\n",
    "start_end='start'\n",
    "seq_len=1500\n",
    "batch_size=10240\n",
    "dropout=0.2\n",
    "threshold=0.95\n",
    "num_workers=8\n",
    "save_path='./data/record'\n",
    "dir_name='scan_start'\n",
    "device='cuda:0'\n"
   ]
  },
  {
   "metadata": {},
   "cell_type": "code",
   "outputs": [],
   "execution_count": null,
   "source": [
    "for chr in ['chr1', 'chr2', 'chr3', 'chr4', 'chr5', 'chr6', 'chr7', 'chr8',\n",
    "            'chr9', 'chr10', 'chr11', 'chr12', 'chr13', 'chr14', 'chr15', 'chr16',\n",
    "            'chr17', 'chr18', 'chr19', 'chr20', 'chr21', 'chr22', 'chrX', 'chrY']:\n",
    "    !python func/scan_genome.py \\\n",
    "        --genome_file {genome_file} \\\n",
    "        --parameter_path {parameter_path} \\\n",
    "        --parameter_choice {parameter_choice} \\\n",
    "        --start_end {start_end} \\\n",
    "        --dropout {dropout} \\\n",
    "        --seq_len {seq_len} \\\n",
    "        --batch_size {batch_size} \\\n",
    "        --threshold {threshold} \\\n",
    "        --chr {chr} \\\n",
    "        --num_workers {num_workers} \\\n",
    "        --save_path {save_path} \\\n",
    "        --dir_name {dir_name} \\\n",
    "        --device {device}"
   ],
   "id": "5ed3d8b1660627bf"
  },
  {
   "metadata": {},
   "cell_type": "code",
   "outputs": [],
   "execution_count": null,
   "source": [
    "genome_file='Homo_sapiens.GRCh38.dna.toplevel.fa'\n",
    "parameter_path='./record/check_points/model_train_stage1/stage1_end.pth'\n",
    "parameter_choice='RU_2'\n",
    "start_end='end'\n",
    "seq_len=1500\n",
    "batch_size=10240\n",
    "dropout=0.2\n",
    "threshold=0.95\n",
    "num_workers=8\n",
    "save_path='./data/record'\n",
    "dir_name='scan_end'\n",
    "device='cuda:1'\n"
   ],
   "id": "8b51ee6670bb6843"
  },
  {
   "metadata": {},
   "cell_type": "code",
   "outputs": [],
   "execution_count": null,
   "source": [
    "for chr in ['chr1', 'chr2', 'chr3', 'chr4', 'chr5', 'chr6', 'chr7', 'chr8',\n",
    "            'chr9', 'chr10', 'chr11', 'chr12', 'chr13', 'chr14', 'chr15', 'chr16',\n",
    "            'chr17', 'chr18', 'chr19', 'chr20', 'chr21', 'chr22', 'chrX', 'chrY']:\n",
    "    !python func/scan_genome.py \\\n",
    "        --genome_file {genome_file} \\\n",
    "        --parameter_path {parameter_path} \\\n",
    "        --parameter_choice {parameter_choice} \\\n",
    "        --start_end {start_end} \\\n",
    "        --dropout {dropout} \\\n",
    "        --seq_len {seq_len} \\\n",
    "        --batch_size {batch_size} \\\n",
    "        --threshold {threshold} \\\n",
    "        --chr {chr} \\\n",
    "        --num_workers {num_workers} \\\n",
    "        --save_path {save_path} \\\n",
    "        --dir_name {dir_name} \\\n",
    "        --device {device}"
   ],
   "id": "78382a51365e510e"
  }
 ],
 "metadata": {
  "kernelspec": {
   "display_name": "Python 3",
   "language": "python",
   "name": "python3"
  },
  "language_info": {
   "codemirror_mode": {
    "name": "ipython",
    "version": 2
   },
   "file_extension": ".py",
   "mimetype": "text/x-python",
   "name": "python",
   "nbconvert_exporter": "python",
   "pygments_lexer": "ipython2",
   "version": "2.7.6"
  }
 },
 "nbformat": 4,
 "nbformat_minor": 5
}
