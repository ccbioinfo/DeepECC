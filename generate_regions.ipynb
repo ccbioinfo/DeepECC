{
 "cells": [
  {
   "cell_type": "code",
   "id": "initial_id",
   "metadata": {
    "collapsed": true
   },
   "source": [
    "import os\n",
    "import numpy as np\n",
    "import pandas as pd\n",
    "import multiprocessing"
   ],
   "outputs": [],
   "execution_count": null
  },
  {
   "metadata": {},
   "cell_type": "code",
   "source": [
    "chromosome_length = {\n",
    "    'chr1':248956422, 'chr2':242193529, 'chr3':198295559, 'chr4':190214555, 'chr5':181538259,\n",
    "    'chr6':170805979, 'chr7':159345973, 'chr8':145138636, 'chr9':138394717, 'chr10':133797422,\n",
    "    'chr11':135086622, 'chr12':133275309, 'chr13':114364328, 'chr14':107043718, 'chr15':101991189,\n",
    "    'chr16':90338345, 'chr17':83257441, 'chr18':80373285, 'chr19':58617616, 'chr20':64444167, 'chr21':46709983,\n",
    "    'chr22':50818468, 'chrX':156040895, 'chrY':57227415,\n",
    "}\n",
    "\n",
    "normal_chromosome = ['chr1', 'chr2', 'chr3', 'chr4', 'chr5', 'chr6', 'chr7', 'chr8', 'chr9',\n",
    "                     'chr10', 'chr11', 'chr12', 'chr13', 'chr14', 'chr15', 'chr16', 'chr17',\n",
    "                     'chr18', 'chr19', 'chr20', 'chr21', 'chr22', 'chrX', 'chrY']"
   ],
   "id": "4b899138652fac86",
   "outputs": [],
   "execution_count": null
  },
  {
   "metadata": {},
   "cell_type": "markdown",
   "source": "---\n",
   "id": "dcaec0ef7e846ebd"
  },
  {
   "metadata": {},
   "cell_type": "code",
   "source": [
    "index_dir = './record/records/predict_joint'\n",
    "prepare_dir = './record/records/prepare_joint'\n",
    "save_dir = './record/records/predict_result/single_results'"
   ],
   "id": "eba774b68cb86797",
   "outputs": [],
   "execution_count": null
  },
  {
   "metadata": {},
   "cell_type": "code",
   "source": [
    "child_dirs = os.listdir(index_dir)\n",
    "for i in child_dirs:\n",
    "    index_files = os.listdir(os.path.join(index_dir, i))\n",
    "    for j in index_files:\n",
    "        file_name = os.path.splitext(j)[0]\n",
    "\n",
    "        index = np.load(os.path.join(index_dir, i, j))\n",
    "        index = index / 100\n",
    "\n",
    "        prepare_file = os.path.join(prepare_dir, i, f'{file_name}.parquet')\n",
    "        prepare_data = pd.read_parquet(prepare_file)\n",
    "\n",
    "        if len(prepare_data) != len(index):\n",
    "            raise ValueError\n",
    "        prepare_data['prob'] = index\n",
    "        prepare_data = prepare_data[prepare_data['prob'] >= 0.5]\n",
    "\n",
    "\n",
    "        save_path = os.path.join(save_dir, i)\n",
    "        os.makedirs(save_path, exist_ok=True)\n",
    "        prepare_data.to_parquet(os.path.join(save_path, f'{file_name}.parquet'))\n",
    "\n",
    "    print(f'Finish {i}')"
   ],
   "id": "8cec15aeaad1463b",
   "outputs": [],
   "execution_count": null
  },
  {
   "metadata": {},
   "cell_type": "markdown",
   "source": "---",
   "id": "8b7f64e846a26f4d"
  },
  {
   "metadata": {},
   "cell_type": "code",
   "source": [
    "def overlap_value_list(df, chr_name):\n",
    "    chrom_len = chromosome_length[chr_name]\n",
    "    raw_list = np.zeros(chrom_len + 1, dtype=np.float64)\n",
    "\n",
    "    starts = df.iloc[:, 1].values - 1\n",
    "    ends = df.iloc[:, 2].values\n",
    "    probs = df.iloc[:, 3].values\n",
    "\n",
    "    np.add.at(raw_list, starts, probs)\n",
    "    np.add.at(raw_list, ends, -probs)\n",
    "\n",
    "    raw_list = np.cumsum(raw_list[:-1])\n",
    "\n",
    "    return raw_list\n",
    "\n",
    "def merge_single_chrom_result(dir_name, dir_list, save_dir):\n",
    "    for i in dir_list:\n",
    "        print(f'Start {i}')\n",
    "        temp_chr_result = []\n",
    "        files = os.listdir(os.path.join(dir_name, i))\n",
    "        for j in files:\n",
    "            file_path = os.path.join(dir_name, i, j)\n",
    "            temp_data = pd.read_parquet(file_path)\n",
    "\n",
    "            temp_chr_result.append(temp_data)\n",
    "\n",
    "        temp_chr_result = pd.concat(temp_chr_result, axis=0)\n",
    "        print(f'{i} have {len(temp_chr_result)}')\n",
    "\n",
    "        overlap_list = overlap_value_list(temp_chr_result, i)\n",
    "        indexs = np.arange(len(overlap_list))\n",
    "        overlap_list[overlap_list < 0.49] = 0\n",
    "        overlap_result = pd.DataFrame({\n",
    "            'site': indexs,\n",
    "            'prob': overlap_list\n",
    "        })\n",
    "\n",
    "        save_path= os.path.join(save_dir, i)\n",
    "        os.makedirs(save_path, exist_ok=True)\n",
    "        overlap_result.to_parquet(os.path.join(save_path, f'{i}_site_result.parquet'))\n",
    "        print(f'Finish store {i}')\n",
    "        print(f'----')"
   ],
   "id": "39a1eee526c660e1",
   "outputs": [],
   "execution_count": null
  },
  {
   "metadata": {},
   "cell_type": "code",
   "source": [
    "dir_name = './record/records/predict_result/single_results'\n",
    "dir_list = os.listdir(dir_name)\n",
    "save_dir = './record/records/predict_result/single_merged_results'\n",
    "\n",
    "merge_single_chrom_result(dir_name, dir_list, save_dir)"
   ],
   "id": "1a946991d9aef9b",
   "outputs": [],
   "execution_count": null
  },
  {
   "metadata": {},
   "cell_type": "markdown",
   "source": "---",
   "id": "f5c25ad36c51f582"
  },
  {
   "metadata": {},
   "cell_type": "code",
   "source": [
    "for chr in normal_chromosome:\n",
    "    file_path = './record/records/predict_result/single_merged_results'\n",
    "    file = os.path.join(file_path, chr, f'{chr}_site_result.parquet')\n",
    "    if not os.path.exists(file):\n",
    "        print(f'{chr} is not exist')\n",
    "        continue\n",
    "    save_path = './record/records/predict_result/single_merged_results_log'\n",
    "\n",
    "    data = pd.read_parquet(file)\n",
    "    value = np.array(data['prob'])\n",
    "    value_ = np.log10(value + 1)\n",
    "    value_ = np.round(value_, 1)\n",
    "    data = data[data['prob'] != 0]\n",
    "    data.to_parquet(os.path.join(save_path, f'{chr}_log.parquet'))\n",
    "    print(f'{chr} is finished')"
   ],
   "id": "d53a3ff6ffb8f0b7",
   "outputs": [],
   "execution_count": null
  },
  {
   "metadata": {},
   "cell_type": "code",
   "source": [
    "def merge_data(name_list):\n",
    "    merge_data = []\n",
    "    for i in name_list:\n",
    "        file_name = f'./record/records/predict_result/single_merged_results_log/{i}_log.parquet'\n",
    "        if os.path.exists(file_name):\n",
    "            data = pd.read_parquet(file_name)\n",
    "            chr_list = [i]*len(data)\n",
    "            data['chr'] = chr_list\n",
    "            data = data[['chr', 'site', 'prob']]\n",
    "            merge_data.append(data)\n",
    "            print(f'Finish {i}')\n",
    "        else:\n",
    "            print(f'{i} is not exist')\n",
    "    save_path = './record/records/predict_result/merged_results'\n",
    "    merge_data = pd.concat(merge_data, axis=0)\n",
    "    merge_data.to_parquet(os.path.join(save_path, 'all_predict_result_log.parquet'))\n",
    "    print('Finish all !!!')"
   ],
   "id": "4ce80c2835c9fe57",
   "outputs": [],
   "execution_count": null
  },
  {
   "metadata": {},
   "cell_type": "code",
   "outputs": [],
   "execution_count": null,
   "source": "merge_data(normal_chromosome)",
   "id": "d6646f7bf128ce5"
  },
  {
   "metadata": {},
   "cell_type": "markdown",
   "source": "---",
   "id": "5cf2329c3bc035df"
  },
  {
   "metadata": {},
   "cell_type": "code",
   "outputs": [],
   "execution_count": null,
   "source": "all_result = pd.read_parquet('./record/records/predict_result/merged_results/all_predict_result_log.parquet')",
   "id": "6357cb9468d8eb84"
  },
  {
   "metadata": {},
   "cell_type": "code",
   "outputs": [],
   "execution_count": null,
   "source": [
    "all_result_ = all_result.copy()\n",
    "all_result_['start'] = all_result_['site']\n",
    "all_result_['end'] = all_result_['start'] + 1\n",
    "all_result_ = all_result_[['chr', 'start', 'end', 'prob']]"
   ],
   "id": "ada299e5bdbe718f"
  },
  {
   "metadata": {},
   "cell_type": "code",
   "outputs": [],
   "execution_count": null,
   "source": [
    "all_result_.to_csv('./record/records/predict_result/merged_results/all_predict_result_log_bed.bed',\n",
    "                   header=False, index=False, sep='\\t')"
   ],
   "id": "ef4bc371acbf7080"
  }
 ],
 "metadata": {
  "kernelspec": {
   "display_name": "Python 3",
   "language": "python",
   "name": "python3"
  },
  "language_info": {
   "codemirror_mode": {
    "name": "ipython",
    "version": 2
   },
   "file_extension": ".py",
   "mimetype": "text/x-python",
   "name": "python",
   "nbconvert_exporter": "python",
   "pygments_lexer": "ipython2",
   "version": "2.7.6"
  }
 },
 "nbformat": 4,
 "nbformat_minor": 5
}
