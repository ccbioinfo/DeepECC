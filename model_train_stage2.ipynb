{
 "cells": [
  {
   "cell_type": "code",
   "execution_count": null,
   "id": "initial_id",
   "metadata": {
    "collapsed": true
   },
   "outputs": [],
   "source": [
    "pos_data='./data/cancer_cell_line_750.csv'\n",
    "neg_data='./data/cancer_cell_line_750_f_shuffled.csv'\n",
    "start_end='start'\n",
    "seq_len=1500\n",
    "parameter_choice='RU_2'\n",
    "epochs=30\n",
    "lr=0.001\n",
    "wd=0.001\n",
    "dropout=0.2\n",
    "batch_size=1024\n",
    "smoothing=0\n",
    "threshold=0.5\n",
    "val_split=0.2\n",
    "save_path='./recode'\n",
    "dir_name='model_train_stage2'\n",
    "world_size=3\n",
    "device='cuda'"
   ]
  },
  {
   "metadata": {},
   "cell_type": "code",
   "outputs": [],
   "execution_count": null,
   "source": [
    "!python train_paralle.py \\\n",
    "    --pos_data {pos_data} \\\n",
    "    --neg_data {neg_data} \\\n",
    "    --start_end {start_end} \\\n",
    "    --seq_len {seq_len} \\\n",
    "    --parameter_choice {parameter_choice} \\\n",
    "    --epochs {epochs} \\\n",
    "    --lr {lr} \\\n",
    "    --wd {wd} \\\n",
    "    --dropout {dropout} \\\n",
    "    --batch_size {batch_size} \\\n",
    "    --smoothing {smoothing} \\\n",
    "    --threshold {threshold} \\\n",
    "    --val_split {val_split} \\\n",
    "    --save_path {save_path} \\\n",
    "    --dir_name {dir_name} \\\n",
    "    --world_size {world_size} \\\n",
    "    --device {device} \\\n",
    "    --show \\\n",
    "    --joint"
   ],
   "id": "c089f17a56cc37b2"
  }
 ],
 "metadata": {
  "kernelspec": {
   "display_name": "Python 3",
   "language": "python",
   "name": "python3"
  },
  "language_info": {
   "codemirror_mode": {
    "name": "ipython",
    "version": 2
   },
   "file_extension": ".py",
   "mimetype": "text/x-python",
   "name": "python",
   "nbconvert_exporter": "python",
   "pygments_lexer": "ipython2",
   "version": "2.7.6"
  }
 },
 "nbformat": 4,
 "nbformat_minor": 5
}
