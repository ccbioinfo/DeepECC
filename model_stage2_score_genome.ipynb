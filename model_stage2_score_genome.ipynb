{
 "cells": [
  {
   "cell_type": "code",
   "execution_count": null,
   "id": "initial_id",
   "metadata": {
    "collapsed": true
   },
   "outputs": [],
   "source": "import os"
  },
  {
   "metadata": {},
   "cell_type": "code",
   "outputs": [],
   "execution_count": null,
   "source": [
    "start_path='./record/scan_start.parquet'\n",
    "end_path='./record/scan_end.parquet'\n",
    "save_dir='./data/record/records/prepare_joint'\n",
    "min_length=50\n",
    "max_length=10000\n",
    "multi_core=30\n",
    "log_path='./record/logs/prepare_joint/prepare_joint.log'"
   ],
   "id": "f7403ca02cc83f1d"
  },
  {
   "metadata": {},
   "cell_type": "code",
   "outputs": [],
   "execution_count": null,
   "source": "os.makedirs(os.path.dirname(log_path), exist_ok=True)",
   "id": "8a748bead0762f1"
  },
  {
   "metadata": {},
   "cell_type": "code",
   "outputs": [],
   "execution_count": null,
   "source": [
    "!python utils/create_joint_data.py \\\n",
    "    --start_path {start_path} \\\n",
    "    --end_path {end_path} \\\n",
    "    --save_dir {save_dir} \\\n",
    "    --min_length {min_length} \\\n",
    "    --max_length {max_length} \\\n",
    "    --multi_core {multi_core} \\\n",
    "    > {log_path} 2>&1"
   ],
   "id": "fb615a698d21f120"
  },
  {
   "metadata": {},
   "cell_type": "code",
   "outputs": [],
   "execution_count": null,
   "source": [
    "genome_file='Homo_sapiens.GRCh38.dna.toplevel.fa'\n",
    "parameter_path='./record/check_points/model_train_stage2/stage2.pth'\n",
    "joint_length=1500\n",
    "batch_size=12800\n",
    "save_path='./record'\n",
    "parameter_choice='RU_2'\n",
    "dropout=0.2\n",
    "device='cuda:1'"
   ],
   "id": "603c90c44b7b3bf5"
  },
  {
   "metadata": {},
   "cell_type": "code",
   "outputs": [],
   "execution_count": null,
   "source": [
    "for chr in ['chr1', 'chr2', 'chr3', 'chr4', 'chr5', 'chr6', 'chr7', 'chr8',\n",
    "            'chr9', 'chr10', 'chr11', 'chr12', 'chr13', 'chr14', 'chr15', 'chr16',\n",
    "            'chr17', 'chr18', 'chr19', 'chr20', 'chr21', 'chr22', 'chrX', 'chrY']:\n",
    "    dir_name=f'predict_joint/{chr}'\n",
    "    folder = f'./record/records/predict_joint/{chr}'\n",
    "    joint_files = [os.path.abspath(os.path.join(folder, f)) for f in os.listdir(folder)]\n",
    "\n",
    "    !python predict_joint.py \\\n",
    "        --joint_files {joint_files} \\\n",
    "        --genome_file {genome_file} \\\n",
    "        --parameter_path {parameter_path} \\\n",
    "        --chr {chr} \\\n",
    "        --joint_length {joint_length} \\\n",
    "        --batch_size {batch_size} \\\n",
    "        --save_path {save_path} \\\n",
    "        --dir_name {dir_name} \\\n",
    "        --parameter_choice {parameter_choice} \\\n",
    "        --dropout {dropout} \\\n",
    "        --device {device}"
   ],
   "id": "dae0246533c73564"
  }
 ],
 "metadata": {
  "kernelspec": {
   "display_name": "Python 3",
   "language": "python",
   "name": "python3"
  },
  "language_info": {
   "codemirror_mode": {
    "name": "ipython",
    "version": 2
   },
   "file_extension": ".py",
   "mimetype": "text/x-python",
   "name": "python",
   "nbconvert_exporter": "python",
   "pygments_lexer": "ipython2",
   "version": "2.7.6"
  }
 },
 "nbformat": 4,
 "nbformat_minor": 5
}
